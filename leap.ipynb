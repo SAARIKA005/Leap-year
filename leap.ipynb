{
  "nbformat": 4,
  "nbformat_minor": 0,
  "metadata": {
    "colab": {
      "name": "Untitled38.ipynb",
      "provenance": []
    },
    "kernelspec": {
      "name": "python3",
      "display_name": "Python 3"
    },
    "language_info": {
      "name": "python"
    }
  },
  "cells": [
    {
      "cell_type": "code",
      "execution_count": null,
      "metadata": {
        "id": "wL_RbmAY7ksR"
      },
      "outputs": [],
      "source": [
        "def CheckLeap(Year):  \n",
        "  # Checking if the given year is leap year  \n",
        "  if((Year % 400 == 0) or  \n",
        "     (Year % 100 != 0) and  \n",
        "     (Year % 4 == 0)):   \n",
        "    print(\"Given Year is a leap Year\");  \n",
        "  # Else it is not a leap year  \n",
        "  else:  \n",
        "    print (\"Given Year is not a leap Year\")  \n",
        "# Taking an input year from user  \n",
        "Year = int(input(\"Enter the number: \"))  \n",
        "# Printing result  \n",
        "CheckLeap(Year)  "
      ]
    }
  ]
}